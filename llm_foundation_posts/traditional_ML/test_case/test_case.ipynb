{
 "cells": [
  {
   "cell_type": "markdown",
   "id": "feef09da",
   "metadata": {},
   "source": [
    "# coding sessions\n"
   ]
  },
  {
   "cell_type": "markdown",
   "id": "5aacf1a0",
   "metadata": {},
   "source": [
    "## 1. probability case\n",
    "**Context:** You have a box containing 10 six-sided dice.\n",
    "*   **Defective Die (1):** One die is defective with the following probabilities for its faces:\n",
    "    *   Side 1: 10%\n",
    "    *   Side 2: 10%\n",
    "    *   Side 3: 10%\n",
    "    *   Side 4: 20%\n",
    "    *   Side 5: 20%\n",
    "    *   Side 6: 30%\n",
    "*   **Normal Dice (9):** The other nine dice are fair, with the probability of rolling any side being 1/6.\n",
    "\n",
    "**Task:** You randomly select **two** dice from the box and roll them. Calculate the **expected sum** of the values you will roll. Round your answer to the nearest thousandth.\n"
   ]
  },
  {
   "cell_type": "code",
   "execution_count": 3,
   "id": "ef950bc6",
   "metadata": {},
   "outputs": [
    {
     "name": "stdout",
     "output_type": "stream",
     "text": [
      "4.2\n",
      "7.14\n"
     ]
    }
   ],
   "source": [
    "defective_dice_expectation = 0.1 * (1 + 2 + 3) + 0.2 * (4 + 5) + 0.3 * 6\n",
    "print(defective_dice_expectation)\n",
    "normal_dice_expectations = 3.5\n",
    "final_expectations = 2 * (0.1 * defective_dice_expectation + 0.9 * normal_dice_expectations)\n",
    "print(final_expectations)"
   ]
  },
  {
   "cell_type": "markdown",
   "id": "b3accb78",
   "metadata": {},
   "source": [
    "## 2. distribution problem\n",
    "> A scientist is carrying out a series of experiments. Each experiment can end with either a success or a failure. The probability of success is **p = 0.820**, and the probability of failure is **q = 0.180**. Experiments in a series are independent of one another.\n",
    ">\n",
    "> If an experiment ends with a success, the detector registers its results correctly with a probability of **pr = 0.960**. If the experiment ends with a failure, nothing is registered.\n",
    ">\n",
    "> The scientist is going to run a series of **20 experiments**. Calculate the probability of getting **exactly 16** experiment results registered correctly on the detector. Round your answer to the nearest thousandth (three decimal places).\n"
   ]
  },
  {
   "cell_type": "code",
   "execution_count": 5,
   "id": "26f4859c",
   "metadata": {},
   "outputs": [
    {
     "name": "stdout",
     "output_type": "stream",
     "text": [
      "0.216\n"
     ]
    }
   ],
   "source": [
    "p_success = 0.820\n",
    "q_failure = 0.180\n",
    "pr_registered = 0.960\n",
    "n_experiments = 20\n",
    "p_registered_success = p_success * pr_registered\n",
    "# P(X=k) = C(n, k) * (p_final^k) * ((1 - p_final)^(n-k))\n",
    "from math import comb\n",
    "def probability_of_success(k, n, p):\n",
    "    return comb(n, k) * (p ** k) * ((1 - p) ** (n - k))\n",
    "k_success = 16\n",
    "probability_of_success_16 = probability_of_success(k_success, n_experiments, p_registered_success)\n",
    "print(round(probability_of_success_16, 3))"
   ]
  },
  {
   "cell_type": "markdown",
   "id": "7494992c",
   "metadata": {},
   "source": [
    "**Scenario:** A company runs an advertising campaign. On any given day, a person who sees the ad has a **5% chance (`p = 0.05`)** of clicking it. The ad is shown to **100 people (`n = 100`)** today.\n",
    "\n",
    "**Your Tasks:**\n",
    "\n",
    "1.  Write Python code to calculate the probability that **exactly 7 people** click the ad.\n",
    "2.  Write Python code to calculate the probability that **10 or fewer people** click the ad.\n",
    "3.  Write Python code to calculate the probability that **more than 4 people** click the ad.\n"
   ]
  },
  {
   "cell_type": "code",
   "execution_count": 6,
   "id": "b647cce0",
   "metadata": {},
   "outputs": [],
   "source": [
    "n = 100 # number of trials\n",
    "p = 0.05 # probability of success\n",
    "from scipy.stats import binom\n",
    "from math import comb\n",
    "k = 7 # number of successes\n",
    "def probability_of_success(k, n, p):\n",
    "    return comb(n, k) * (p ** k) * ((1 - p) ** (n - k))\n",
    "probability_of_success_7 = probability_of_success(k, n, p)"
   ]
  },
  {
   "cell_type": "code",
   "execution_count": 7,
   "id": "b7e51f13",
   "metadata": {},
   "outputs": [
    {
     "data": {
      "text/plain": [
       "0.10602553736478867"
      ]
     },
     "execution_count": 7,
     "metadata": {},
     "output_type": "execute_result"
    }
   ],
   "source": [
    "probability_of_success_7"
   ]
  },
  {
   "cell_type": "code",
   "execution_count": 9,
   "id": "29480474",
   "metadata": {},
   "outputs": [
    {
     "name": "stdout",
     "output_type": "stream",
     "text": [
      "0.9885275899325113\n",
      "0.5640186993142899\n"
     ]
    }
   ],
   "source": [
    "def cumulative_probability(k, n, p):\n",
    "    return sum(probability_of_success(i, n, p) for i in range(k + 1))\n",
    "def right_tail_probability(k, n, p):\n",
    "    return 1 - cumulative_probability(k - 1, n, p)\n",
    "\n",
    "cumulative_probability_10 = cumulative_probability(10, n, p)\n",
    "right_tail_probability_4 = right_tail_probability(5, n, p)\n",
    "print(cumulative_probability_10)\n",
    "print(right_tail_probability_4)"
   ]
  },
  {
   "cell_type": "code",
   "execution_count": 10,
   "id": "bc5bbc9c",
   "metadata": {},
   "outputs": [
    {
     "name": "stdout",
     "output_type": "stream",
     "text": [
      "0.564\n"
     ]
    }
   ],
   "source": [
    "# Using the binom distribution from scipy.stats for accuracy and efficiency\n",
    "prob_more_than_4 = 1 - binom.cdf(4, n, p)\n",
    "print(round(prob_more_than_4, 3))"
   ]
  },
  {
   "cell_type": "code",
   "execution_count": 11,
   "id": "b9a846e3",
   "metadata": {},
   "outputs": [
    {
     "name": "stdout",
     "output_type": "stream",
     "text": [
      "The probability of exactly 7 clicks is: 0.1060\n",
      "The probability of 10 or fewer clicks is: 0.9885\n",
      "The probability of more than 4 clicks is: 0.5640\n"
     ]
    }
   ],
   "source": [
    "# Import the necessary library\n",
    "from scipy.stats import binom\n",
    "\n",
    "# --- Define the parameters of our distribution ---\n",
    "n = 100  # Number of trials (people shown the ad)\n",
    "p = 0.05 # Probability of success (a single person clicking)\n",
    "\n",
    "# --- Task 1: Probability of EXACTLY 7 clicks ---\n",
    "# We use the Probability Mass Function (pmf) for this.\n",
    "k_exact = 7\n",
    "prob_exact_7 = binom.pmf(k=k_exact, n=n, p=p)\n",
    "print(f\"The probability of exactly {k_exact} clicks is: {prob_exact_7:.4f}\")\n",
    "# Expected output: The probability of exactly 7 clicks is: 0.1060\n",
    "\n",
    "# --- Task 2: Probability of 10 OR FEWER clicks ---\n",
    "# We use the Cumulative Distribution Function (cdf) for this.\n",
    "k_le_10 = 10\n",
    "prob_le_10 = binom.cdf(k=k_le_10, n=n, p=p)\n",
    "print(f\"The probability of {k_le_10} or fewer clicks is: {prob_le_10:.4f}\")\n",
    "# Expected output: The probability of 10 or fewer clicks is: 0.9885\n",
    "\n",
    "# --- Task 3: Probability of MORE THAN 4 clicks ---\n",
    "# We use the Survival Function (sf), which is 1 - cdf.\n",
    "# sf(k) calculates P(X > k).\n",
    "k_gt_4 = 4\n",
    "prob_gt_4 = binom.sf(k=k_gt_4, n=n, p=p)\n",
    "print(f\"The probability of more than {k_gt_4} clicks is: {prob_gt_4:.4f}\")\n",
    "# Expected output: The probability of more than 4 clicks is: 0.5832"
   ]
  },
  {
   "cell_type": "markdown",
   "id": "d12ed5ae",
   "metadata": {},
   "source": [
    "## 3. Data Manipulation"
   ]
  },
  {
   "cell_type": "code",
   "execution_count": 12,
   "id": "1f6407e1",
   "metadata": {},
   "outputs": [
    {
     "name": "stdout",
     "output_type": "stream",
     "text": [
      "Dummy CSV files created successfully in the 'sales_data' directory.\n"
     ]
    }
   ],
   "source": [
    "# Setup: Create the dummy CSV files for our case study\n",
    "import pandas as pd\n",
    "import os\n",
    "\n",
    "# Create a directory for our data\n",
    "if not os.path.exists('sales_data'):\n",
    "    os.makedirs('sales_data')\n",
    "\n",
    "# --- Sales Files (with messy columns) ---\n",
    "sales_na_data = \"\"\"sale_id,product_id,customer_id,Total Sale\n",
    "101,A54,C1,$150.50\n",
    "102,B12,C2,$75.00\n",
    "103,A54,C3,$140.25\n",
    "\"\"\"\n",
    "with open('sales_data/sales_north_america.csv', 'w') as f:\n",
    "    f.write(sales_na_data)\n",
    "\n",
    "sales_eu_data = \"\"\"Sale ID,Product ID,CustomerID,Total Sale\n",
    "201,C78,C4,$25.99\n",
    "202,B12,C5,$80.00\n",
    "\"\"\"\n",
    "with open('sales_data/sales_europe.csv', 'w') as f:\n",
    "    f.write(sales_eu_data)\n",
    "\n",
    "sales_asia_data = \"\"\"sale id,product id,customer id,Total_Sale\n",
    "301,A54,C6,$155.00\n",
    "302,D99,C7,$200.10\n",
    "\"\"\"\n",
    "with open('sales_data/sales_asia.csv', 'w') as f:\n",
    "    f.write(sales_asia_data)\n",
    "\n",
    "# --- Supporting Info Files ---\n",
    "products_data = \"\"\"product_id,product_name,category\n",
    "A54,Laptop,Electronics\n",
    "B12,Mouse,Electronics\n",
    "C78,T-Shirt,Apparel\n",
    "D99,Keyboard,Electronics\n",
    "\"\"\"\n",
    "with open('sales_data/products.csv', 'w') as f:\n",
    "    f.write(products_data)\n",
    "\n",
    "customers_data = \"\"\"id,first_name,last_name,country\n",
    "C1,John,Doe,USA\n",
    "C2,Jane,Smith,Canada\n",
    "C3,Peter,Jones,USA\n",
    "C4,Hans,Schmidt,Germany\n",
    "C5,Isabelle,Dubois,France\n",
    "C6,Kenji,Tanaka,Japan\n",
    "C7,Li,Wei,China\n",
    "\"\"\"\n",
    "with open('sales_data/customers.csv', 'w') as f:\n",
    "    f.write(customers_data)\n",
    "\n",
    "# --- Bonus Files for another Concat Example ---\n",
    "promotions_q1_data = \"\"\"promo_id,discount_percent\n",
    "P1,10\n",
    "P2,15\n",
    "\"\"\"\n",
    "with open('sales_data/promos_q1.csv', 'w') as f:\n",
    "    f.write(promotions_q1_data)\n",
    "    \n",
    "promotions_q2_data = \"\"\"promo_id,discount_percent\n",
    "P3,20\n",
    "P4,5\n",
    "\"\"\"\n",
    "with open('sales_data/promos_q2.csv', 'w') as f:\n",
    "    f.write(promotions_q2_data)\n",
    "\n",
    "print(\"Dummy CSV files created successfully in the 'sales_data' directory.\")"
   ]
  },
  {
   "cell_type": "markdown",
   "id": "60dd65e7",
   "metadata": {},
   "source": [
    "**Scenario:** You are a data scientist at a global retail company. The sales data for the first quarter is spread across multiple CSV files from different regional offices (North America, Europe, Asia). Additionally, there are separate files for product information and customer details. The data is messy. Your task is to clean and consolidate all this information into a single, master DataFrame for analysis.\n",
    "\n",
    "**The Challenge:**\n",
    "1.  Combine sales data from three regional files.\n",
    "2.  Standardize the column names, which have typos and different casing.\n",
    "3.  Clean and convert the `Total Sale` column to a numeric type.\n",
    "4.  Merge the consolidated sales data with product and customer information.\n",
    "5.  Create a final, clean DataFrame ready for analysis.\n"
   ]
  },
  {
   "cell_type": "code",
   "execution_count": 27,
   "id": "cbecd7b7",
   "metadata": {},
   "outputs": [
    {
     "name": "stdout",
     "output_type": "stream",
     "text": [
      "Index(['sale_id', 'product_id', 'customer_id', 'Total Sale'], dtype='object')\n",
      "Index(['Sale ID', 'Product ID', 'CustomerID', 'Total Sale'], dtype='object')\n",
      "Index(['sale id', 'product id', 'customer id', 'Total_Sale'], dtype='object')\n"
     ]
    }
   ],
   "source": [
    "import pandas as pd\n",
    "import os\n",
    "\n",
    "# step 1: load sales data from multiple CSV files\n",
    "sales_files = [\n",
    "    'sales_data/sales_north_america.csv',\n",
    "    'sales_data/sales_europe.csv',\n",
    "    'sales_data/sales_asia.csv'\n",
    "]\n",
    "list_of_dfs = [pd.read_csv(files) for files in sales_files]\n",
    "\n",
    "print(list_of_dfs[0].columns)\n",
    "print(list_of_dfs[1].columns)\n",
    "print(list_of_dfs[2].columns)"
   ]
  },
  {
   "cell_type": "code",
   "execution_count": 28,
   "id": "3b85c08d",
   "metadata": {},
   "outputs": [
    {
     "name": "stdout",
     "output_type": "stream",
     "text": [
      "   sale_id product_id customer_id total_sale\n",
      "0      101        A54          C1    $150.50\n",
      "1      102        B12          C2     $75.00\n",
      "2      103        A54          C3    $140.25\n",
      "3      201        C78          C4     $25.99\n",
      "4      202        B12          C5     $80.00\n"
     ]
    }
   ],
   "source": [
    "clean_columns = ['sale_id', 'product_id', 'customer_id', 'total_sale']\n",
    "\n",
    "for df in list_of_dfs:\n",
    "    df.columns = clean_columns\n",
    "\n",
    "sale_dfs = pd.concat(list_of_dfs, ignore_index=True)\n",
    "print(sale_dfs.head())"
   ]
  },
  {
   "cell_type": "code",
   "execution_count": 29,
   "id": "e0794bef",
   "metadata": {},
   "outputs": [
    {
     "data": {
      "text/html": [
       "<div>\n",
       "<style scoped>\n",
       "    .dataframe tbody tr th:only-of-type {\n",
       "        vertical-align: middle;\n",
       "    }\n",
       "\n",
       "    .dataframe tbody tr th {\n",
       "        vertical-align: top;\n",
       "    }\n",
       "\n",
       "    .dataframe thead th {\n",
       "        text-align: right;\n",
       "    }\n",
       "</style>\n",
       "<table border=\"1\" class=\"dataframe\">\n",
       "  <thead>\n",
       "    <tr style=\"text-align: right;\">\n",
       "      <th></th>\n",
       "      <th>sale_id</th>\n",
       "      <th>product_id</th>\n",
       "      <th>customer_id</th>\n",
       "      <th>total_sale</th>\n",
       "    </tr>\n",
       "  </thead>\n",
       "  <tbody>\n",
       "    <tr>\n",
       "      <th>0</th>\n",
       "      <td>101</td>\n",
       "      <td>A54</td>\n",
       "      <td>C1</td>\n",
       "      <td>150.50</td>\n",
       "    </tr>\n",
       "    <tr>\n",
       "      <th>1</th>\n",
       "      <td>102</td>\n",
       "      <td>B12</td>\n",
       "      <td>C2</td>\n",
       "      <td>75.00</td>\n",
       "    </tr>\n",
       "    <tr>\n",
       "      <th>2</th>\n",
       "      <td>103</td>\n",
       "      <td>A54</td>\n",
       "      <td>C3</td>\n",
       "      <td>140.25</td>\n",
       "    </tr>\n",
       "  </tbody>\n",
       "</table>\n",
       "</div>"
      ],
      "text/plain": [
       "   sale_id product_id customer_id  total_sale\n",
       "0      101        A54          C1      150.50\n",
       "1      102        B12          C2       75.00\n",
       "2      103        A54          C3      140.25"
      ]
     },
     "execution_count": 29,
     "metadata": {},
     "output_type": "execute_result"
    }
   ],
   "source": [
    "sale_dfs.total_sale = sale_dfs.total_sale.str.replace(\"$\", \"\").astype(float)\n",
    "sale_dfs.head(3)"
   ]
  },
  {
   "cell_type": "code",
   "execution_count": 30,
   "id": "5b23fd6e",
   "metadata": {},
   "outputs": [
    {
     "name": "stdout",
     "output_type": "stream",
     "text": [
      "  promo_id  discount_percent\n",
      "0       P1                10\n",
      "  promo_id  discount_percent\n",
      "0       P3                20\n"
     ]
    }
   ],
   "source": [
    "promos_files = ['sales_data/promos_q1.csv',\n",
    "    'sales_data/promos_q2.csv']\n",
    "promos = [pd.read_csv(file) for file in promos_files]\n",
    "promo = pd.concat(promos, ignore_index=True )\n",
    "print(promos[0].head(1))\n",
    "print(promos[1].head(1))"
   ]
  },
  {
   "cell_type": "code",
   "execution_count": 31,
   "id": "35077c83",
   "metadata": {},
   "outputs": [
    {
     "data": {
      "text/html": [
       "<div>\n",
       "<style scoped>\n",
       "    .dataframe tbody tr th:only-of-type {\n",
       "        vertical-align: middle;\n",
       "    }\n",
       "\n",
       "    .dataframe tbody tr th {\n",
       "        vertical-align: top;\n",
       "    }\n",
       "\n",
       "    .dataframe thead th {\n",
       "        text-align: right;\n",
       "    }\n",
       "</style>\n",
       "<table border=\"1\" class=\"dataframe\">\n",
       "  <thead>\n",
       "    <tr style=\"text-align: right;\">\n",
       "      <th></th>\n",
       "      <th>id</th>\n",
       "      <th>first_name</th>\n",
       "      <th>last_name</th>\n",
       "      <th>country</th>\n",
       "    </tr>\n",
       "  </thead>\n",
       "  <tbody>\n",
       "    <tr>\n",
       "      <th>0</th>\n",
       "      <td>C1</td>\n",
       "      <td>John</td>\n",
       "      <td>Doe</td>\n",
       "      <td>USA</td>\n",
       "    </tr>\n",
       "  </tbody>\n",
       "</table>\n",
       "</div>"
      ],
      "text/plain": [
       "   id first_name last_name country\n",
       "0  C1       John       Doe     USA"
      ]
     },
     "execution_count": 31,
     "metadata": {},
     "output_type": "execute_result"
    }
   ],
   "source": [
    "customers = pd.read_csv('sales_data/customers.csv')\n",
    "products = pd.read_csv('sales_data/products.csv')\n",
    "customers.head(1)\n"
   ]
  },
  {
   "cell_type": "code",
   "execution_count": 32,
   "id": "5ef429fe",
   "metadata": {},
   "outputs": [
    {
     "data": {
      "text/html": [
       "<div>\n",
       "<style scoped>\n",
       "    .dataframe tbody tr th:only-of-type {\n",
       "        vertical-align: middle;\n",
       "    }\n",
       "\n",
       "    .dataframe tbody tr th {\n",
       "        vertical-align: top;\n",
       "    }\n",
       "\n",
       "    .dataframe thead th {\n",
       "        text-align: right;\n",
       "    }\n",
       "</style>\n",
       "<table border=\"1\" class=\"dataframe\">\n",
       "  <thead>\n",
       "    <tr style=\"text-align: right;\">\n",
       "      <th></th>\n",
       "      <th>product_id</th>\n",
       "      <th>product_name</th>\n",
       "      <th>category</th>\n",
       "    </tr>\n",
       "  </thead>\n",
       "  <tbody>\n",
       "    <tr>\n",
       "      <th>0</th>\n",
       "      <td>A54</td>\n",
       "      <td>Laptop</td>\n",
       "      <td>Electronics</td>\n",
       "    </tr>\n",
       "  </tbody>\n",
       "</table>\n",
       "</div>"
      ],
      "text/plain": [
       "  product_id product_name     category\n",
       "0        A54       Laptop  Electronics"
      ]
     },
     "execution_count": 32,
     "metadata": {},
     "output_type": "execute_result"
    }
   ],
   "source": [
    "products.head(1)"
   ]
  },
  {
   "cell_type": "code",
   "execution_count": 34,
   "id": "8167cb35",
   "metadata": {},
   "outputs": [
    {
     "data": {
      "text/html": [
       "<div>\n",
       "<style scoped>\n",
       "    .dataframe tbody tr th:only-of-type {\n",
       "        vertical-align: middle;\n",
       "    }\n",
       "\n",
       "    .dataframe tbody tr th {\n",
       "        vertical-align: top;\n",
       "    }\n",
       "\n",
       "    .dataframe thead th {\n",
       "        text-align: right;\n",
       "    }\n",
       "</style>\n",
       "<table border=\"1\" class=\"dataframe\">\n",
       "  <thead>\n",
       "    <tr style=\"text-align: right;\">\n",
       "      <th></th>\n",
       "      <th>sale_id</th>\n",
       "      <th>product_id</th>\n",
       "      <th>customer_id</th>\n",
       "      <th>total_sale</th>\n",
       "      <th>product_name</th>\n",
       "      <th>category</th>\n",
       "    </tr>\n",
       "  </thead>\n",
       "  <tbody>\n",
       "    <tr>\n",
       "      <th>0</th>\n",
       "      <td>101</td>\n",
       "      <td>A54</td>\n",
       "      <td>C1</td>\n",
       "      <td>150.50</td>\n",
       "      <td>Laptop</td>\n",
       "      <td>Electronics</td>\n",
       "    </tr>\n",
       "    <tr>\n",
       "      <th>1</th>\n",
       "      <td>102</td>\n",
       "      <td>B12</td>\n",
       "      <td>C2</td>\n",
       "      <td>75.00</td>\n",
       "      <td>Mouse</td>\n",
       "      <td>Electronics</td>\n",
       "    </tr>\n",
       "    <tr>\n",
       "      <th>2</th>\n",
       "      <td>103</td>\n",
       "      <td>A54</td>\n",
       "      <td>C3</td>\n",
       "      <td>140.25</td>\n",
       "      <td>Laptop</td>\n",
       "      <td>Electronics</td>\n",
       "    </tr>\n",
       "  </tbody>\n",
       "</table>\n",
       "</div>"
      ],
      "text/plain": [
       "   sale_id product_id customer_id  total_sale product_name     category\n",
       "0      101        A54          C1      150.50       Laptop  Electronics\n",
       "1      102        B12          C2       75.00        Mouse  Electronics\n",
       "2      103        A54          C3      140.25       Laptop  Electronics"
      ]
     },
     "execution_count": 34,
     "metadata": {},
     "output_type": "execute_result"
    }
   ],
   "source": [
    "final_data = sale_dfs.merge(products, left_on='product_id', right_on='product_id', how ='left')\n",
    "final_data.head(3)"
   ]
  },
  {
   "cell_type": "code",
   "execution_count": 35,
   "id": "7f74b939",
   "metadata": {},
   "outputs": [
    {
     "data": {
      "text/html": [
       "<div>\n",
       "<style scoped>\n",
       "    .dataframe tbody tr th:only-of-type {\n",
       "        vertical-align: middle;\n",
       "    }\n",
       "\n",
       "    .dataframe tbody tr th {\n",
       "        vertical-align: top;\n",
       "    }\n",
       "\n",
       "    .dataframe thead th {\n",
       "        text-align: right;\n",
       "    }\n",
       "</style>\n",
       "<table border=\"1\" class=\"dataframe\">\n",
       "  <thead>\n",
       "    <tr style=\"text-align: right;\">\n",
       "      <th></th>\n",
       "      <th>sale_id</th>\n",
       "      <th>product_id</th>\n",
       "      <th>customer_id</th>\n",
       "      <th>total_sale</th>\n",
       "      <th>product_name</th>\n",
       "      <th>category</th>\n",
       "      <th>id</th>\n",
       "      <th>first_name</th>\n",
       "      <th>last_name</th>\n",
       "      <th>country</th>\n",
       "    </tr>\n",
       "  </thead>\n",
       "  <tbody>\n",
       "    <tr>\n",
       "      <th>0</th>\n",
       "      <td>101</td>\n",
       "      <td>A54</td>\n",
       "      <td>C1</td>\n",
       "      <td>150.50</td>\n",
       "      <td>Laptop</td>\n",
       "      <td>Electronics</td>\n",
       "      <td>C1</td>\n",
       "      <td>John</td>\n",
       "      <td>Doe</td>\n",
       "      <td>USA</td>\n",
       "    </tr>\n",
       "    <tr>\n",
       "      <th>1</th>\n",
       "      <td>102</td>\n",
       "      <td>B12</td>\n",
       "      <td>C2</td>\n",
       "      <td>75.00</td>\n",
       "      <td>Mouse</td>\n",
       "      <td>Electronics</td>\n",
       "      <td>C2</td>\n",
       "      <td>Jane</td>\n",
       "      <td>Smith</td>\n",
       "      <td>Canada</td>\n",
       "    </tr>\n",
       "    <tr>\n",
       "      <th>2</th>\n",
       "      <td>103</td>\n",
       "      <td>A54</td>\n",
       "      <td>C3</td>\n",
       "      <td>140.25</td>\n",
       "      <td>Laptop</td>\n",
       "      <td>Electronics</td>\n",
       "      <td>C3</td>\n",
       "      <td>Peter</td>\n",
       "      <td>Jones</td>\n",
       "      <td>USA</td>\n",
       "    </tr>\n",
       "  </tbody>\n",
       "</table>\n",
       "</div>"
      ],
      "text/plain": [
       "   sale_id product_id customer_id  total_sale product_name     category  id  \\\n",
       "0      101        A54          C1      150.50       Laptop  Electronics  C1   \n",
       "1      102        B12          C2       75.00        Mouse  Electronics  C2   \n",
       "2      103        A54          C3      140.25       Laptop  Electronics  C3   \n",
       "\n",
       "  first_name last_name country  \n",
       "0       John       Doe     USA  \n",
       "1       Jane     Smith  Canada  \n",
       "2      Peter     Jones     USA  "
      ]
     },
     "execution_count": 35,
     "metadata": {},
     "output_type": "execute_result"
    }
   ],
   "source": [
    "final_data = final_data.merge(customers, left_on = 'customer_id', right_on='id', how='left')\n",
    "final_data.head(3)"
   ]
  },
  {
   "cell_type": "code",
   "execution_count": 36,
   "id": "21c26f32",
   "metadata": {},
   "outputs": [
    {
     "name": "stdout",
     "output_type": "stream",
     "text": [
      "            sum     mean  count\n",
      "country                        \n",
      "Canada    75.00   75.000      1\n",
      "China    200.10  200.100      1\n",
      "France    80.00   80.000      1\n",
      "Germany   25.99   25.990      1\n",
      "Japan    155.00  155.000      1\n",
      "USA      290.75  145.375      2\n"
     ]
    }
   ],
   "source": [
    "sales_by_country = final_data.groupby('country')['total_sale'].agg(['sum', 'mean', 'count'])\n",
    "print(sales_by_country)"
   ]
  },
  {
   "cell_type": "markdown",
   "id": "d9ad82a5",
   "metadata": {},
   "source": [
    "## Sklearn\n",
    "**Mock Case:** A telecom company wants to predict customer churn. You are given a small dataset of customer information and need to build a model to predict whether a customer will churn (`Churn` = 1) or not (`Churn` = 0).\n"
   ]
  },
  {
   "cell_type": "code",
   "execution_count": 37,
   "id": "4e2fab59",
   "metadata": {},
   "outputs": [],
   "source": [
    "# Core libraries\n",
    "import pandas as pd\n",
    "import numpy as np\n",
    "\n",
    "# Data Preprocessing\n",
    "from sklearn.model_selection import train_test_split\n",
    "from sklearn.impute import SimpleImputer\n",
    "from sklearn.preprocessing import StandardScaler, OneHotEncoder\n",
    "from sklearn.compose import ColumnTransformer\n",
    "from sklearn.pipeline import Pipeline\n",
    "\n",
    "# Models\n",
    "from sklearn.linear_model import LogisticRegression\n",
    "from sklearn.ensemble import RandomForestClassifier\n",
    "\n",
    "# Evaluation\n",
    "from sklearn.metrics import accuracy_score, confusion_matrix, classification_report, roc_auc_score\n"
   ]
  },
  {
   "cell_type": "code",
   "execution_count": 38,
   "id": "5ea5c66f",
   "metadata": {},
   "outputs": [
    {
     "name": "stdout",
     "output_type": "stream",
     "text": [
      "Original Data:\n",
      "   CustomerID  Tenure_Months Subscription_Type  Monthly_Bill  Churn\n",
      "0           1             12             Basic          20.0      0\n",
      "1           2             24           Premium          70.0      0\n",
      "2           3              5             Basic          20.0      1\n",
      "3           4             48           Premium          80.0      0\n",
      "4           5             60           Premium          85.0      0\n",
      "5           6              6             Basic           NaN      1\n",
      "6           7              1             Basic          15.0      1\n",
      "7           8             35           Premium          75.0      0\n",
      "8           9             22             Basic          25.0      1\n",
      "9          10             40           Premium          78.0      0\n"
     ]
    }
   ],
   "source": [
    "data = {\n",
    "    'CustomerID': range(1, 11),\n",
    "    'Tenure_Months': [12, 24, 5, 48, 60, 6, 1, 35, 22, 40],\n",
    "    'Subscription_Type': ['Basic', 'Premium', 'Basic', 'Premium', 'Premium', 'Basic', 'Basic', 'Premium', 'Basic', 'Premium'],\n",
    "    'Monthly_Bill': [20, 70, 20, 80, 85, np.nan, 15, 75, 25, 78], # Note the missing value\n",
    "    'Churn': [0, 0, 1, 0, 0, 1, 1, 0, 1, 0] # Target variable\n",
    "}\n",
    "df = pd.DataFrame(data)\n",
    "\n",
    "print(\"Original Data:\")\n",
    "print(df)"
   ]
  },
  {
   "cell_type": "code",
   "execution_count": 43,
   "id": "28673c8b",
   "metadata": {},
   "outputs": [],
   "source": [
    "X = df.drop(columns=['CustomerID', 'Churn'])\n",
    "y = df['Churn']\n",
    "X_train, X_test, y_train, y_test = train_test_split(X, y, test_size=0.2, \n",
    "                                                    random_state=42, stratify=y)\n",
    "\n",
    "numerical_features = ['Tenure_Months', 'Monthly_Bill']\n",
    "categorical_features = ['Subscription_Type']\n",
    "\n",
    "numerical_transformer = Pipeline(steps =  [\n",
    "    ('imputer', SimpleImputer(strategy='median')),\n",
    "    ('scaler', StandardScaler())\n",
    "])\n",
    "\n",
    "categorical_transformer = Pipeline(steps = [\n",
    "    ('onehot', OneHotEncoder(handle_unknown='ignore'))\n",
    "    ])\n",
    "preprocessor = ColumnTransformer(transformers = [\n",
    "    ('num', numerical_transformer, numerical_features),\n",
    "    ('cat', categorical_transformer, categorical_features)\n",
    "])\n",
    "\n",
    "\n"
   ]
  },
  {
   "cell_type": "code",
   "execution_count": null,
   "id": "f71e812e",
   "metadata": {},
   "outputs": [
    {
     "data": {
      "text/plain": [
       "array([[ 0.73621206,  0.78048462,  0.        ,  1.        ],\n",
       "       [-0.09602766, -1.08893962,  1.        ,  0.        ],\n",
       "       [-0.73621206, -1.27588204,  1.        ,  0.        ],\n",
       "       [ 1.56845178,  0.96742704,  0.        ,  1.        ],\n",
       "       [-1.1203227 ,  0.59354219,  1.        ,  0.        ],\n",
       "       [-1.4404149 , -1.46282446,  1.        ,  0.        ],\n",
       "       [ 1.05630426,  0.89265007,  0.        ,  1.        ],\n",
       "       [ 0.03200922,  0.59354219,  0.        ,  1.        ]])"
      ]
     },
     "execution_count": 45,
     "metadata": {},
     "output_type": "execute_result"
    }
   ],
   "source": [
    "X_trans = preprocessor.fit_transform(X_train)\n",
    "X_trans"
   ]
  },
  {
   "cell_type": "code",
   "execution_count": null,
   "id": "cc1f3251",
   "metadata": {},
   "outputs": [
    {
     "name": "stdout",
     "output_type": "stream",
     "text": [
      "Logistic Regression Model Accuracy: 1.0\n",
      "Confusion Matrix:\n",
      " [[1 0]\n",
      " [0 1]]\n",
      "Classification Report:\n",
      "               precision    recall  f1-score   support\n",
      "\n",
      "           0       1.00      1.00      1.00         1\n",
      "           1       1.00      1.00      1.00         1\n",
      "\n",
      "    accuracy                           1.00         2\n",
      "   macro avg       1.00      1.00      1.00         2\n",
      "weighted avg       1.00      1.00      1.00         2\n",
      "\n"
     ]
    }
   ],
   "source": [
    "lr_pipeline = Pipeline(steps=[\n",
    "    ('preprocessor', preprocessor),\n",
    "    ('classifier', LogisticRegression(random_state=42))\n",
    "])\n",
    "lr_pipeline.fit(X_train, y_train)\n",
    "y_pred_lr = lr_pipeline.predict(X_test)\n",
    "print(\"Logistic Regression Model Accuracy:\", accuracy_score(y_test, y_pred_lr))\n",
    "print(\"Confusion Matrix:\\n\", confusion_matrix(y_test, y_pred_lr))\n",
    "print(\"Classification Report:\\n\", classification_report(y_test, y_pred_lr))"
   ]
  },
  {
   "cell_type": "code",
   "execution_count": 47,
   "id": "903382ba",
   "metadata": {},
   "outputs": [
    {
     "name": "stdout",
     "output_type": "stream",
     "text": [
      "Random Forest Model Accuracy: 1.0\n",
      "ROC AUC Score: 1.0\n",
      "Confusion Matrix:\n",
      " [[1 0]\n",
      " [0 1]]\n",
      "Classification Report:\n",
      "               precision    recall  f1-score   support\n",
      "\n",
      "           0       1.00      1.00      1.00         1\n",
      "           1       1.00      1.00      1.00         1\n",
      "\n",
      "    accuracy                           1.00         2\n",
      "   macro avg       1.00      1.00      1.00         2\n",
      "weighted avg       1.00      1.00      1.00         2\n",
      "\n"
     ]
    }
   ],
   "source": [
    "rf_pipeline = Pipeline(steps=[\n",
    "    ('preprocessor', preprocessor),\n",
    "    ('classifier', RandomForestClassifier(n_estimators=100,\n",
    "                                          max_depth=5,\n",
    "        random_state=42))\n",
    "])\n",
    "rf_pipeline.fit(X_train, y_train)\n",
    "y_pred_rf = rf_pipeline.predict(X_test)\n",
    "print(\"Random Forest Model Accuracy:\", accuracy_score(y_test, y_pred_rf))\n",
    "print(\"ROC AUC Score:\", roc_auc_score(y_test, rf_pipeline.predict_proba(X_test)[:, 1]))\n",
    "print(\"Confusion Matrix:\\n\", confusion_matrix(y_test, y_pred_rf))\n",
    "print(\"Classification Report:\\n\", classification_report(y_test, y_pred_rf))"
   ]
  },
  {
   "cell_type": "code",
   "execution_count": null,
   "id": "304fa024",
   "metadata": {},
   "outputs": [],
   "source": []
  }
 ],
 "metadata": {
  "kernelspec": {
   "display_name": "base",
   "language": "python",
   "name": "python3"
  },
  "language_info": {
   "codemirror_mode": {
    "name": "ipython",
    "version": 3
   },
   "file_extension": ".py",
   "mimetype": "text/x-python",
   "name": "python",
   "nbconvert_exporter": "python",
   "pygments_lexer": "ipython3",
   "version": "3.11.0"
  }
 },
 "nbformat": 4,
 "nbformat_minor": 5
}
